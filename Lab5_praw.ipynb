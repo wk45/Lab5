{
 "cells": [
  {
   "cell_type": "markdown",
   "metadata": {},
   "source": [
    "# PRAW Library\n",
    "## Python Reddit API Wrapper"
   ]
  },
  {
   "cell_type": "code",
   "execution_count": null,
   "metadata": {
    "collapsed": false
   },
   "outputs": [],
   "source": [
    "# install library\n",
    "# !pip install praw"
   ]
  },
  {
   "cell_type": "code",
   "execution_count": null,
   "metadata": {
    "collapsed": false
   },
   "outputs": [],
   "source": [
    "import praw\n",
    "import pandas as pd\n",
    "import networkx as nx\n",
    "#import matplotlib.pyplot as plt"
   ]
  },
  {
   "cell_type": "code",
   "execution_count": null,
   "metadata": {
    "collapsed": true
   },
   "outputs": [],
   "source": [
    "clientid = \"EppA5GzbdocKzA\"\n",
    "clientsecret = \"PBMQFMsqWuXuqGak1qVNlhzyi4A\"\n",
    "password = 'password'\n",
    "username = \"Aidenberg\"\n",
    "user_agent = \"testcript by /u/aiden\""
   ]
  },
  {
   "cell_type": "code",
   "execution_count": null,
   "metadata": {
    "collapsed": true
   },
   "outputs": [],
   "source": [
    "reddit = praw.Reddit(client_id=clientid, \n",
    "                     client_secret=clientsecret,\n",
    "                     password= password, \n",
    "                     user_agent='testcript by /u/aiden',\n",
    "                     username='Aidenberg')"
   ]
  },
  {
   "cell_type": "code",
   "execution_count": null,
   "metadata": {
    "collapsed": false
   },
   "outputs": [],
   "source": [
    "reddit.user.me()"
   ]
  },
  {
   "cell_type": "markdown",
   "metadata": {},
   "source": [
    "### Play with PRAW"
   ]
  },
  {
   "cell_type": "code",
   "execution_count": null,
   "metadata": {
    "collapsed": false,
    "scrolled": true
   },
   "outputs": [],
   "source": [
    "# load submissions title\n",
    "subreddit = reddit.subreddit('python')\n",
    "hot_python = subreddit.hot(limit=5)\n",
    "for submission in hot_python:\n",
    "    print(submission.title)"
   ]
  },
  {
   "cell_type": "code",
   "execution_count": null,
   "metadata": {
    "collapsed": false
   },
   "outputs": [],
   "source": [
    "# load more information\n",
    "hot_python = subreddit.hot(limit=5)\n",
    "for submission in hot_python:\n",
    "    print(submission.title,\n",
    "          submission.ups,\n",
    "          submission.downs,\n",
    "          submission.visited)"
   ]
  },
  {
   "cell_type": "code",
   "execution_count": null,
   "metadata": {
    "collapsed": true
   },
   "outputs": [],
   "source": [
    "# What else we can do with praw\n",
    "subreddit.subscribe()\n",
    "subreddit.unsubscribe()"
   ]
  },
  {
   "cell_type": "code",
   "execution_count": null,
   "metadata": {
    "collapsed": true
   },
   "outputs": [],
   "source": [
    "# Comments\n",
    "hot_python = subreddit.hot(limit=5)\n",
    "for submission in hot_python:\n",
    "    comments = submission.comments\n",
    "    for comment in comments:\n",
    "        print(20*'-')\n",
    "        print(comment.body)"
   ]
  },
  {
   "cell_type": "code",
   "execution_count": null,
   "metadata": {
    "collapsed": true
   },
   "outputs": [],
   "source": [
    "# Comments with threads\n",
    "# error occurs if thread is too long.\n",
    "\n",
    "#try again with 'news' subreddit\n",
    "hot_python = reddit.subreddit('python').hot(limit=5)\n",
    "for submission in hot_python:\n",
    "    comments = submission.comments\n",
    "    for comment in comments:\n",
    "        print(20*'-')\n",
    "        print('Parent ID:', comment.parent())\n",
    "        print('Comment ID:', comment.id)\n",
    "        print(comment.body)"
   ]
  },
  {
   "cell_type": "code",
   "execution_count": null,
   "metadata": {
    "collapsed": false
   },
   "outputs": [],
   "source": [
    "hot_python = reddit.subreddit('news').hot(limit=1)\n",
    "for submission in hot_python:\n",
    "    submission.comments.replace_more(limit=0)\n",
    "    for comment in submission.comments.list():\n",
    "        print(20*'-')\n",
    "        print('Parent ID:', comment.parent())\n",
    "        print('Comment ID:', comment.id)\n",
    "        print(comment.body)"
   ]
  },
  {
   "cell_type": "markdown",
   "metadata": {},
   "source": [
    "## Comment Network"
   ]
  },
  {
   "cell_type": "code",
   "execution_count": null,
   "metadata": {
    "collapsed": true
   },
   "outputs": [],
   "source": [
    "col_edge = ['parentID', 'commentID']\n",
    "lst = []\n",
    "hot_python = reddit.subreddit('news').hot(limit=1)\n",
    "for submission in hot_python:\n",
    "    submission.comments.replace_more(limit=0)\n",
    "    for comment in submission.comments.list():\n",
    "        lst.append([comment.parent().author, comment.author])\n",
    "            \n",
    "df_edge = pd.DataFrame(lst, columns=col_edge)"
   ]
  },
  {
   "cell_type": "code",
   "execution_count": null,
   "metadata": {
    "collapsed": false,
    "scrolled": true
   },
   "outputs": [],
   "source": [
    "df_edge.head(5)"
   ]
  },
  {
   "cell_type": "code",
   "execution_count": null,
   "metadata": {
    "collapsed": false
   },
   "outputs": [],
   "source": [
    "col_node = ['userID']\n",
    "df_node = pd.DataFrame(list(set(sum(lst, []))), columns=col_node)"
   ]
  },
  {
   "cell_type": "code",
   "execution_count": null,
   "metadata": {
    "collapsed": true
   },
   "outputs": [],
   "source": [
    "G = nx.Graph()\n",
    "\n",
    "for index, row in df_node.iterrows():\n",
    "    G.add_node(row['userID'])\n",
    "for index, row in df_edge.iterrows():\n",
    "    G.add_edges_from([(row['parentID'], row['commentID'])])"
   ]
  },
  {
   "cell_type": "code",
   "execution_count": null,
   "metadata": {
    "collapsed": false
   },
   "outputs": [],
   "source": [
    "#plt.figure(figsize=(25,25))\n",
    "#options = {\n",
    "#    'edge_color': '#FFDEA2',\n",
    "#    'width': 1,\n",
    "#    'with_labels': False,\n",
    "#    'font_weight': 'regular',\n",
    "#}\n",
    "#\n",
    "#pos = nx.kamada_kawai_layout(G)\n",
    "#nx.draw(G, node_color = 'lightblue', node_size = [G.degree[i]*50 for i in G], pos=pos, **options)\n",
    "#        \n",
    "#ax = plt.gca()\n",
    "#ax.collections[0].set_edgecolor(\"#555555\") \n",
    "#plt.show()"
   ]
  },
  {
   "cell_type": "markdown",
   "metadata": {},
   "source": [
    "<img src=\"comment_network.png\">"
   ]
  },
  {
   "cell_type": "markdown",
   "metadata": {},
   "source": [
    "### Collect node attributes\n",
    "\n",
    "User Karma\n",
    "\n",
    "User Subscription or active subreddits\n",
    "\n",
    "Edge-wise attributes can be collected by considering common subreddits.\n"
   ]
  },
  {
   "cell_type": "markdown",
   "metadata": {},
   "source": [
    "#### 1. Collect Karma"
   ]
  },
  {
   "cell_type": "code",
   "execution_count": null,
   "metadata": {
    "collapsed": false
   },
   "outputs": [],
   "source": [
    "# Karma can be collected by redditor names\n",
    "user = reddit.redditor(\"bboe\")\n",
    "user.comment_karma, user.link_karma"
   ]
  },
  {
   "cell_type": "code",
   "execution_count": null,
   "metadata": {
    "collapsed": false,
    "scrolled": false
   },
   "outputs": [],
   "source": [
    "# Karma can be collected by reddior ids (reddit.get function)\n",
    "# Multiple requests\n",
    "\n",
    "subreddit = reddit.subreddit('redditdev')\n",
    "user_ids = [user.id for user in subreddit.moderator()]\n",
    "data = reddit.get('api/user_data_by_account_ids',\n",
    "                  params={'ids': ','.join(user_ids)})\n",
    "for id_, d in data.items():\n",
    "    print('{name}: {comment_karma} {link_karma}'.format(**d))"
   ]
  },
  {
   "cell_type": "markdown",
   "metadata": {},
   "source": [
    "#### 2. Collect Date the account created"
   ]
  },
  {
   "cell_type": "code",
   "execution_count": null,
   "metadata": {
    "collapsed": false,
    "scrolled": true
   },
   "outputs": [],
   "source": [
    "# When were the accounts created?\n",
    "import time\n",
    "for id_, d in data.items():\n",
    "    print('{}: {}'.format(d.get(\"name\"),\n",
    "                          time.ctime(d.get(\"created_utc\"))))"
   ]
  },
  {
   "cell_type": "markdown",
   "metadata": {},
   "source": [
    "#### 4. Active subreddits per user"
   ]
  },
  {
   "cell_type": "code",
   "execution_count": null,
   "metadata": {
    "collapsed": false
   },
   "outputs": [],
   "source": [
    "#user = praw.models.Redditor(reddit, name=\"/u/fwork\", _data=None)\n",
    "comments_path =\"user/bboe/comments\" \n",
    "comments = praw.models.ListingGenerator(reddit, comments_path, params=None, limit=100)\n",
    "comments = comments.__iter__()"
   ]
  },
  {
   "cell_type": "code",
   "execution_count": null,
   "metadata": {
    "collapsed": true
   },
   "outputs": [],
   "source": [
    "lst = []\n",
    "for comment in comments:\n",
    "    lst.append(comment.subreddit.display_name)"
   ]
  },
  {
   "cell_type": "code",
   "execution_count": null,
   "metadata": {
    "collapsed": true
   },
   "outputs": [],
   "source": [
    "from collections import Counter\n",
    "Counter(lst).most_common()"
   ]
  },
  {
   "cell_type": "markdown",
   "metadata": {},
   "source": [
    "## Subreddit Network"
   ]
  },
  {
   "cell_type": "code",
   "execution_count": null,
   "metadata": {
    "collapsed": true
   },
   "outputs": [],
   "source": [
    "## Creating a subreddit network\n",
    "## connections among subreddits\n",
    "## how to define edges?"
   ]
  },
  {
   "cell_type": "code",
   "execution_count": null,
   "metadata": {
    "collapsed": true
   },
   "outputs": [],
   "source": [
    "subreddit = reddit.subreddit(\"programming\")"
   ]
  },
  {
   "cell_type": "code",
   "execution_count": null,
   "metadata": {
    "collapsed": true
   },
   "outputs": [],
   "source": [
    "#subreddit = reddit.subreddit('politics')\n",
    "#   for submission in subreddit.submissions(1478592000, 1478678400):\n",
    "#       print(submission.title)"
   ]
  },
  {
   "cell_type": "markdown",
   "metadata": {},
   "source": [
    "##### Weight of edges can be assessed by common users"
   ]
  },
  {
   "cell_type": "code",
   "execution_count": null,
   "metadata": {
    "collapsed": true
   },
   "outputs": [],
   "source": [
    "# Consider 7 different subreddits\n",
    "subreddit_list = [\"programming\", \"python\", \"technology\", \"coding\", \"django\", \"philosophy\", \"PhilosophyofReligion\"]\n",
    "LST = []\n",
    "for sr_list in subreddit_list:\n",
    "    subreddit = reddit.subreddit(sr_list)\n",
    "    lst = []\n",
    "    for i in subreddit.hot(limit=500):\n",
    "        lst.append(i.author)\n",
    "    LST.append(lst)"
   ]
  },
  {
   "cell_type": "code",
   "execution_count": null,
   "metadata": {
    "collapsed": true
   },
   "outputs": [],
   "source": [
    "LST # returns Redditor object. Need to convert them into strings"
   ]
  },
  {
   "cell_type": "code",
   "execution_count": null,
   "metadata": {
    "collapsed": true
   },
   "outputs": [],
   "source": [
    "# LST is a list of redditor objects\n",
    "# Changing them into user names\n",
    "l = []; L = []\n",
    "for i in range(0,7):\n",
    "    for j in LST[i]:\n",
    "        if j != None:\n",
    "            l.append(j.name)\n",
    "    L.append(l)\n",
    "    l = []"
   ]
  },
  {
   "cell_type": "code",
   "execution_count": null,
   "metadata": {
    "collapsed": true
   },
   "outputs": [],
   "source": [
    "D = pd.DataFrame(columns = subreddit_list,\n",
    "                 index = subreddit_list) # contingency matrix storing the number of common users\n",
    "\n",
    "for i in range(0,7): # for loop for common users\n",
    "    for j in range(0,7):\n",
    "        if i < j:\n",
    "            common_users = set(L[i]).intersection(L[j])\n",
    "            print('Subreddits:({}, {}) \\n Len:{} \\n Users: {}'.format(subreddit_list[i], subreddit_list[j], \n",
    "                                                                      len(common_users), common_users))\n",
    "            print(20*'-')\n",
    "            \n",
    "            D.at[subreddit_list[i],subreddit_list[j]] = D.at[subreddit_list[j],subreddit_list[i]] = len(common_users)"
   ]
  },
  {
   "cell_type": "code",
   "execution_count": null,
   "metadata": {
    "collapsed": false,
    "scrolled": true
   },
   "outputs": [],
   "source": [
    "D"
   ]
  },
  {
   "cell_type": "markdown",
   "metadata": {},
   "source": [
    "##### Edges by X-post\n",
    "We may also use X-posts. X-post is cross-post meaning it locates in multiple subreddits."
   ]
  },
  {
   "cell_type": "code",
   "execution_count": null,
   "metadata": {
    "collapsed": true
   },
   "outputs": [],
   "source": [
    "subreddit_list = [\"programming\", \"python\", \"technology\", \"coding\", \"django\", \"philosophy\", \"PhilosophyofReligion\"]\n",
    "LST = []\n",
    "for sr_list in subreddit_list:\n",
    "    subreddit = reddit.subreddit(sr_list)\n",
    "    lst = []\n",
    "    for i in subreddit.search(\"x-post\", limit=500):\n",
    "        lst.append(i.author)\n",
    "    LST.append(lst)"
   ]
  },
  {
   "cell_type": "code",
   "execution_count": null,
   "metadata": {
    "collapsed": false
   },
   "outputs": [],
   "source": [
    "import re #library for regular expression\n",
    "\n",
    "LST2 = []\n",
    "for sr_list in subreddit_list:\n",
    "    subreddit = reddit.subreddit(sr_list)\n",
    "    \n",
    "    lst = []\n",
    "    for i in subreddit.search(\"x-post\", limit=500):\n",
    "        tmp = re.search(r'r\\/(.*?(?=[\\]\\)\\s\\/\\:]))', i.title)\n",
    "        if tmp != None:\n",
    "            lst.append(tmp.group(1))\n",
    "            \n",
    "    LST2.append(lst)"
   ]
  },
  {
   "cell_type": "code",
   "execution_count": null,
   "metadata": {
    "collapsed": true
   },
   "outputs": [],
   "source": [
    "LST2\n",
    "# We can also make edge attributes of weights based on x-posts."
   ]
  }
 ],
 "metadata": {
  "kernelspec": {
   "display_name": "Python 3",
   "language": "python",
   "name": "python3"
  },
  "language_info": {
   "codemirror_mode": {
    "name": "ipython",
    "version": 3
   },
   "file_extension": ".py",
   "mimetype": "text/x-python",
   "name": "python",
   "nbconvert_exporter": "python",
   "pygments_lexer": "ipython3",
   "version": "3.5.1"
  }
 },
 "nbformat": 4,
 "nbformat_minor": 0
}
